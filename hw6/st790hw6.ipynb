{
 "metadata": {
  "name": ""
 },
 "nbformat": 3,
 "nbformat_minor": 0,
 "worksheets": [
  {
   "cells": [
    {
     "cell_type": "markdown",
     "metadata": {},
     "source": [
      "### Brian Naughton\n",
      "### ST790 - HW 6"
     ]
    },
    {
     "cell_type": "code",
     "collapsed": false,
     "input": [
      "versioninfo()"
     ],
     "language": "python",
     "metadata": {},
     "outputs": [
      {
       "output_type": "stream",
       "stream": "stdout",
       "text": [
        "Julia Version 0.3.7\n"
       ]
      },
      {
       "output_type": "stream",
       "stream": "stdout",
       "text": [
        "Commit cb9bcae* (2015-03-23 21:36 UTC)\n",
        "Platform Info:\n",
        "  System: Linux (x86_64-linux-gnu)\n",
        "  CPU: Intel(R) Core(TM) i7-2670QM CPU @ 2.20GHz\n",
        "  WORD_SIZE: 64\n",
        "  BLAS: libopenblas (DYNAMIC_ARCH NO_AFFINITY Sandybridge)\n",
        "  LAPACK: libopenblas\n",
        "  LIBM: libopenlibm\n",
        "  LLVM: libLLVM-3.3\n"
       ]
      }
     ],
     "prompt_number": 2
    },
    {
     "cell_type": "markdown",
     "metadata": {},
     "source": [
      "### Q1 Experimental Design"
     ]
    },
    {
     "cell_type": "markdown",
     "metadata": {},
     "source": [
      "### Q2 Complete Lena\n",
      "\n",
      "### Q3 Best Subset Regression\n",
      "\n",
      "### Q4 Ranking MLB Teams"
     ]
    },
    {
     "cell_type": "code",
     "collapsed": false,
     "input": [],
     "language": "python",
     "metadata": {},
     "outputs": []
    }
   ],
   "metadata": {}
  }
 ]
}