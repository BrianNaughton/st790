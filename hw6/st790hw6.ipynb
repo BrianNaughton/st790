{
 "metadata": {
  "name": ""
 },
 "nbformat": 3,
 "nbformat_minor": 0,
 "worksheets": [
  {
   "cells": [
    {
     "cell_type": "markdown",
     "metadata": {},
     "source": [
      "### Brian Naughton\n",
      "### ST790 - HW 6"
     ]
    },
    {
     "cell_type": "code",
     "collapsed": false,
     "input": [
      "versioninfo()"
     ],
     "language": "python",
     "metadata": {},
     "outputs": [
      {
       "output_type": "stream",
       "stream": "stdout",
       "text": [
        "Julia Version 0.3.7\n"
       ]
      },
      {
       "output_type": "stream",
       "stream": "stdout",
       "text": [
        "Commit cb9bcae* (2015-03-23 21:36 UTC)\n",
        "Platform Info:\n",
        "  System: Linux (x86_64-linux-gnu)\n",
        "  CPU: Intel(R) Core(TM) i7-2670QM CPU @ 2.20GHz\n",
        "  WORD_SIZE: 64\n",
        "  BLAS: libopenblas (DYNAMIC_ARCH NO_AFFINITY Sandybridge)\n",
        "  LAPACK: libopenblas\n",
        "  LIBM: libopenlibm\n",
        "  LLVM: libLLVM-3.3\n"
       ]
      }
     ],
     "prompt_number": 2
    },
    {
     "cell_type": "markdown",
     "metadata": {},
     "source": [
      "### Q1 Experimental Design\n",
      "#### (a) D-Optimal Design - Formulate as an SDP  \n",
      "Define $ A(p) = \\sum_{i=1}^m p_i x_i x_i' $.  \n",
      "$ min ~ det \\left[ A(p)^{-1} \\right] \\Leftrightarrow min ~ det \\left[ A(p)\\right]^{-1} $  \n",
      "subject to $ p \\succeq 0, ~ 1'p = 1 $  \n",
      "\n",
      "\n",
      "which is equivalent to:  \n",
      "$ min ~ t $  \n",
      "subject to $ det[A(p)]^{-1} \\leq t, p \\succeq 0, ~ 1'p = 1 $  \n",
      "\n",
      "\n",
      "which is equivalent to:  \n",
      "$ min ~ t $  \n",
      "subject to $ \\left( \\begin{array}{ccc}\n",
      "A(p) & Z \\\\\n",
      "Z' & diag(Z) \\end{array} \\right) \\succeq 0, ~(z_{11}z_{22}\\dots z_{mm})^{-1} \\leq t, ~p \\succeq 0, ~ 1'p = 1 $  \n",
      "which is an SDP in $t, Z$ and $p$.\n",
      "\n",
      "#### (b) E-Optimal Design - Formulate as an SDP\n",
      "$ min ~ \\lambda_{max} (A(p)^{-1}) $  \n",
      "subject to $ p \\succeq 0, ~ 1'p = 1 $.  \n",
      "Define the solution of this program to be $\\lambda_{max}^*$\n",
      "\n",
      "\n",
      "This program is equivalent to:  \n",
      "$ max ~ \\lambda_{min} (A(p)) $  \n",
      "subject to $ p \\succeq 0, ~ 1'p = 1 $.  \n",
      "Define the solution of this program to be $\\lambda_{min}^*$. \n",
      "Then $\\lambda_{max}^* = 1/ \\lambda_{min}^*$\n",
      "\n",
      "This program can be formulated as an SDP by:  \n",
      "$ max ~ t \\Leftrightarrow min ~ -t$  \n",
      "subject to $ A(p) \\succeq tI, ~p \\succeq 0, ~ 1'p = 1 $  \n",
      "which is an SDP in $t$ and $p$.  \n",
      "Then the reciprocal of the solution is the solution to the original problem.\n",
      "\n",
      "#### (c) A-Optimal Design - Formulate as an SDP\n",
      "$ min ~ tr \\left( A(p)^{-1} \\right) $  \n",
      "subject to $ p \\succeq 0, ~ 1'p = 1 $  \n",
      "\n",
      "\n",
      "which is equivalent to:  \n",
      "$ min ~ tr(B)$  \n",
      "subject to \n",
      "$ \\left( \\begin{array}{ccc}\n",
      "B & I \\\\\n",
      "I & A(p) \\end{array} \\right) \\succeq 0, \n",
      "~ p \\succeq 0, ~ 1'p = 1 $  \n",
      "\n",
      "\n",
      "which is an SDP in $B$ and $p$.\n",
      "#### (d) Find the optimal designs for the experiment"
     ]
    },
    {
     "cell_type": "markdown",
     "metadata": {},
     "source": [
      "### Q2 Complete Lena\n",
      "\n",
      "### Q3 Best Subset Regression\n",
      "\n",
      "### Q4 Ranking MLB Teams"
     ]
    },
    {
     "cell_type": "code",
     "collapsed": false,
     "input": [],
     "language": "python",
     "metadata": {},
     "outputs": []
    }
   ],
   "metadata": {}
  }
 ]
}