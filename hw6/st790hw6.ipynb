{
 "metadata": {
  "name": ""
 },
 "nbformat": 3,
 "nbformat_minor": 0,
 "worksheets": [
  {
   "cells": [
    {
     "cell_type": "markdown",
     "metadata": {},
     "source": [
      "### Brian Naughton\n",
      "### ST790 - HW 6"
     ]
    },
    {
     "cell_type": "code",
     "collapsed": false,
     "input": [
      "versioninfo()"
     ],
     "language": "python",
     "metadata": {},
     "outputs": [
      {
       "output_type": "stream",
       "stream": "stdout",
       "text": [
        "Julia Version 0.3.7\n"
       ]
      },
      {
       "output_type": "stream",
       "stream": "stdout",
       "text": [
        "Commit cb9bcae* (2015-03-23 21:36 UTC)\n",
        "Platform Info:\n",
        "  System: Linux (x86_64-linux-gnu)\n",
        "  CPU: Intel(R) Core(TM) i7-2670QM CPU @ 2.20GHz\n",
        "  WORD_SIZE: 64\n",
        "  BLAS: libopenblas (DYNAMIC_ARCH NO_AFFINITY Sandybridge)\n",
        "  LAPACK: libopenblas\n",
        "  LIBM: libopenlibm\n",
        "  LLVM: libLLVM-3.3\n"
       ]
      }
     ],
     "prompt_number": 2
    },
    {
     "cell_type": "markdown",
     "metadata": {},
     "source": [
      "### Q1 Experimental Design\n",
      "#### (a) D-Optimal Design - Formulate as an SDP  \n",
      "Define $ A(p) = \\sum_{i=1}^m p_i x_i x_i' $.  \n",
      "$ min ~ det \\left[ A(p)^{-1} \\right] \\Leftrightarrow min ~ det \\left[ A(p)\\right]^{-1} $  \n",
      "subject to $ p \\succeq 0, ~ 1'p = 1 $  \n",
      "\n",
      "\n",
      "which is equivalent to:  \n",
      "$ min ~ t $  \n",
      "subject to $ det[A(p)]^{-1} \\leq t, p \\succeq 0, ~ 1'p = 1 $  \n",
      "\n",
      "\n",
      "which is equivalent to:  \n",
      "$ min ~ t $  \n",
      "subject to $ \\left( \\begin{array}{ccc}\n",
      "A(p) & Z \\\\\n",
      "Z' & diag(Z) \\end{array} \\right) \\succeq 0, ~(z_{11}z_{22}\\dots z_{mm})^{-1} \\leq t, ~p \\succeq 0, ~ 1'p = 1 $  \n",
      "which is an SDP in $t, Z$ and $p$.\n",
      "\n",
      "#### (b) E-Optimal Design - Formulate as an SDP\n",
      "$ min ~ \\lambda_{max} (A(p)^{-1}) $  \n",
      "subject to $ p \\succeq 0, ~ 1'p = 1 $.  \n",
      "Define the optimal value of this program to be $\\lambda_{max}^*$\n",
      "\n",
      "\n",
      "This program is equivalent to:  \n",
      "$ max ~ \\lambda_{min} (A(p)) $  \n",
      "subject to $ p \\succeq 0, ~ 1'p = 1 $.  \n",
      "Define the optimal value of this program to be $\\lambda_{min}^*$. \n",
      "Then $\\lambda_{max}^* = 1/ \\lambda_{min}^*$\n",
      "\n",
      "This program can be formulated as an SDP by:  \n",
      "$ max ~ t \\Leftrightarrow min ~ -t$  \n",
      "subject to $ A(p) \\succeq tI, ~p \\succeq 0, ~ 1'p = 1 $  \n",
      "which is an SDP in $t$ and $p$.  \n",
      "\n",
      "#### (c) A-Optimal Design - Formulate as an SDP\n",
      "$ min ~ tr \\left( A(p)^{-1} \\right) $  \n",
      "subject to $ p \\succeq 0, ~ 1'p = 1 $  \n",
      "\n",
      "\n",
      "which is equivalent to:  \n",
      "$ min ~ tr(B)$  \n",
      "subject to \n",
      "$ \\left( \\begin{array}{ccc}\n",
      "B & I \\\\\n",
      "I & A(p) \\end{array} \\right) \\succeq 0, \n",
      "~ p \\succeq 0, ~ 1'p = 1 $  \n",
      "\n",
      "\n",
      "which is an SDP in $B$ and $p$.\n",
      "#### (d) Find the optimal designs for the experiment"
     ]
    },
    {
     "cell_type": "code",
     "collapsed": false,
     "input": [
      "using Convex, DataFrames, SCS\n",
      "solver = SCSSolver(verbose=false)\n",
      "set_default_solver(solver)\n",
      "\n",
      "# Create X - dummy vectors\n",
      "    X = zeros(11, 7)\n",
      "    Xindices = zeros(12, 2)\n",
      "    tmpCtr = 1\n",
      "    for i = 1:3\n",
      "      for j = 1:4\n",
      "        Xindices[tmpCtr,:] = [i,j]\n",
      "        tmpCtr += 1\n",
      "      end\n",
      "    end\n",
      "    Xindices = Xindices[1:11,:] # Remove A3:B4 comboination\n",
      "    for i = 1:11\n",
      "      a, b = Xindices[i,:]\n",
      "      X[i, a] = 1\n",
      "      X[i, b + 3] = 1\n",
      "    end\n",
      "\n",
      "# D-optimal design\n",
      "p = Variable(11, Positive())\n",
      "Ap = p[1] .* X[1,:]' * X[1,:]\n",
      "for i = 2:11\n",
      "  Ap += p[i] .* X[i,:]' * X[i,:]\n",
      "end\n",
      "problem = minimize(-logdet(Ap))\n",
      "problem.constraints += sum(p) == 1\n",
      "@time solve!(problem)\n",
      "D_OptimalSoln = p.value\n",
      "\n",
      "# E-optimal design\n",
      "p = Variable(11, Positive())\n",
      "Ap = p[1] .* X[1,:]' * X[1,:]\n",
      "for i = 2:11\n",
      "  Ap += p[i] .* X[i,:]' * X[i,:]\n",
      "end\n",
      "problem = maximize(lambda_min(Ap)) \n",
      "problem.constraints += sum(p) == 1\n",
      "@time solve!(problem)\n",
      "E_OptimalSoln = p.value\n",
      "\n",
      "# A-optimal design\n",
      "p = Variable(11, Positive())\n",
      "B = Variable(7, 7)\n",
      "Ap = p[1] .* X[1,:]' * X[1,:]\n",
      "for i = 2:11\n",
      "  Ap += p[i] .* X[i,:]' * X[i,:]\n",
      "end\n",
      "problem = minimize(trace(B)) \n",
      "problem.constraints += sum(p) == 1\n",
      "problem.constraints += isposdef([B eye(7); eye(7) Ap])\n",
      "@time solve!(problem)\n",
      "A_OptimalSoln = p.value;"
     ],
     "language": "python",
     "metadata": {},
     "outputs": [
      {
       "output_type": "stream",
       "stream": "stdout",
       "text": [
        "elapsed time: 9"
       ]
      },
      {
       "output_type": "stream",
       "stream": "stdout",
       "text": [
        ".049184173 seconds (7209352 bytes allocated)\n",
        "elapsed time: 0.008188448 seconds (598744 bytes allocated)\n",
        "elapsed time: "
       ]
      },
      {
       "output_type": "stream",
       "stream": "stdout",
       "text": [
        "1.485464647 seconds (1267616 bytes allocated)\n"
       ]
      }
     ],
     "prompt_number": 2
    },
    {
     "cell_type": "markdown",
     "metadata": {},
     "source": [
      "#### Display 3x4 tables of probabilities:\n",
      "##### D-optimal solution:"
     ]
    },
    {
     "cell_type": "code",
     "collapsed": false,
     "input": [
      "reshape([D_OptimalSoln, 0], 4, 3)'"
     ],
     "language": "python",
     "metadata": {},
     "outputs": [
      {
       "metadata": {},
       "output_type": "pyout",
       "prompt_number": 3,
       "text": [
        "3x4 Array{Float64,2}:\n",
        " 0.0823028  0.0823028  0.0823028  0.112105\n",
        " 0.0823028  0.0823028  0.0823028  0.112105\n",
        " 0.0934626  0.0934626  0.0934626  0.0     "
       ]
      }
     ],
     "prompt_number": 3
    },
    {
     "cell_type": "markdown",
     "metadata": {},
     "source": [
      "##### E-optimal solution:"
     ]
    },
    {
     "cell_type": "code",
     "collapsed": false,
     "input": [
      "reshape([E_OptimalSoln, 0], 4, 3)'"
     ],
     "language": "python",
     "metadata": {},
     "outputs": [
      {
       "metadata": {},
       "output_type": "pyout",
       "prompt_number": 4,
       "text": [
        "3x4 Array{Float64,2}:\n",
        " 0.0810616  0.0810616  0.0810616  0.105653\n",
        " 0.0810616  0.0810616  0.0810616  0.105653\n",
        " 0.100775   0.100775   0.100775   0.0     "
       ]
      }
     ],
     "prompt_number": 4
    },
    {
     "cell_type": "markdown",
     "metadata": {},
     "source": [
      "##### A-optimal solution:"
     ]
    },
    {
     "cell_type": "code",
     "collapsed": false,
     "input": [
      "reshape([A_OptimalSoln, 0], 4, 3)'"
     ],
     "language": "python",
     "metadata": {},
     "outputs": [
      {
       "metadata": {},
       "output_type": "pyout",
       "prompt_number": 5,
       "text": [
        "3x4 Array{Float64,2}:\n",
        " 0.0823028  0.0823028  0.0823028  0.112105\n",
        " 0.0823028  0.0823028  0.0823028  0.112105\n",
        " 0.0934626  0.0934626  0.0934626  0.0     "
       ]
      }
     ],
     "prompt_number": 5
    },
    {
     "cell_type": "markdown",
     "metadata": {},
     "source": [
      "### Q2 Complete Lena\n",
      "\n",
      "### Q3 Best Subset Regression\n",
      "\n",
      "### Q4 Ranking MLB Teams"
     ]
    },
    {
     "cell_type": "code",
     "collapsed": false,
     "input": [],
     "language": "python",
     "metadata": {},
     "outputs": []
    }
   ],
   "metadata": {}
  }
 ]
}