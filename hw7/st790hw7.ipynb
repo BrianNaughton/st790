{
 "metadata": {
  "name": ""
 },
 "nbformat": 3,
 "nbformat_minor": 0,
 "worksheets": [
  {
   "cells": [
    {
     "cell_type": "markdown",
     "metadata": {},
     "source": [
      "### Brian Naughton\n",
      "### ST 790 - HW 7"
     ]
    },
    {
     "cell_type": "code",
     "collapsed": false,
     "input": [
      "versioninfo()"
     ],
     "language": "python",
     "metadata": {},
     "outputs": [
      {
       "output_type": "stream",
       "stream": "stdout",
       "text": [
        "Julia Version 0.3.7\n"
       ]
      },
      {
       "output_type": "stream",
       "stream": "stdout",
       "text": [
        "Commit cb9bcae* (2015-03-23 21:36 UTC)\n",
        "Platform Info:\n",
        "  System: Linux (x86_64-linux-gnu)\n",
        "  CPU: Intel(R) Core(TM) i7-2670QM CPU @ 2.20GHz\n",
        "  WORD_SIZE: 64\n",
        "  BLAS: libopenblas (DYNAMIC_ARCH NO_AFFINITY Sandybridge)\n",
        "  LAPACK: libopenblas\n",
        "  LIBM: libopenlibm\n",
        "  LLVM: libLLVM-3.3\n"
       ]
      }
     ],
     "prompt_number": 1
    },
    {
     "cell_type": "markdown",
     "metadata": {},
     "source": [
      "#### Q1 Implement lasso penalized linear regression using three methods:  \n",
      "#####(1a) convex optimization solver  "
     ]
    },
    {
     "cell_type": "code",
     "collapsed": false,
     "input": [
      "# Fit Lasso using Convex Optimization solver \n",
      "using Convex, Mosek\n",
      "solver = MosekSolver(LOG=0)\n",
      "set_default_solver(solver)\n",
      "\n",
      "function lasso_convex(X, y, \u03bb)\n",
      "  \u03b2 = Variable(size(X, 2))\n",
      "  problem = minimize(0.5 * norm(y- X*\u03b2, 2)^2 + \u03bb * norm(\u03b2[2:end], 1))\n",
      "  solve!(problem)\n",
      "  return \u03b2.value\n",
      "end;"
     ],
     "language": "python",
     "metadata": {},
     "outputs": [],
     "prompt_number": 1
    },
    {
     "cell_type": "markdown",
     "metadata": {},
     "source": [
      "#####(1b) coordinate descent (CD) "
     ]
    },
    {
     "cell_type": "code",
     "collapsed": false,
     "input": [
      "# soft-thresholding function\n",
      "function softThresh(z, \u03b3)\n",
      "  sign(z) * max(abs(z) - \u03b3, 0)\n",
      "end\n",
      "\n",
      "\n",
      "function lasso_cd(X, y, \u03bb, tol)\n",
      "  currObj = .001\n",
      "  prevObj = .001\n",
      "  XjpXj = diag(X'X)\n",
      "  x1 = X[1, 1] # Assumes X[:,1] = x1\n",
      "  p = size(X, 2)\n",
      "  \u03b2 = (y \\ X)'\n",
      "  r = vec(y - X * \u03b2)\n",
      "  iters = 0\n",
      "  while abs(currObj - prevObj)/prevObj  > tol || iters == 0\n",
      "    prevObj = currObj\n",
      "    # Update \u03b2_0:\n",
      "      \u03b2new = \u03b2[1] + mean(r) / x1\n",
      "      r = r .+ ((\u03b2[1] - \u03b2new)*x1)  \n",
      "      \u03b2[1] = \u03b2new\n",
      "    # Update \u03b2_j's\n",
      "      for j = 2:p\n",
      "        z = \u03b2[j] + (dot(X[:,j],r) / XjpXj[j])\n",
      "        \u03b2new = softThresh(z, \u03bb / XjpXj[j])\n",
      "        r += (\u03b2[j] - \u03b2new) .* X[:, j]\n",
      "        \u03b2[j] = \u03b2new\n",
      "      end\n",
      "    currObj = .5 * norm(y-X*\u03b2)^2 + \u03bb * norm(\u03b2[2:end], 1)\n",
      "    iters += 1\n",
      "  end\n",
      "  return \u03b2\n",
      "end;"
     ],
     "language": "python",
     "metadata": {},
     "outputs": [],
     "prompt_number": 2
    },
    {
     "cell_type": "markdown",
     "metadata": {},
     "source": [
      " \n",
      "#####(1c) accelerated proximal gradient method (FISTA)"
     ]
    },
    {
     "cell_type": "code",
     "collapsed": false,
     "input": [
      "function lasso_apg(X, y, \u03bb, tol)\n",
      "  currObj = .001\n",
      "  prevObj = .001\n",
      "  p = size(X, 2)\n",
      "  x1 = X[1, 1] # Assumes X[:,1] = x1\n",
      "  s = 1 / eigmax(X' * X)\n",
      "  \u03b2 = \u03b2tm1 = \u03b2tm2 = (y \\ X)'\n",
      "  r = vec(y - X * \u03b2)\n",
      "  iters = 0\n",
      "  while abs(currObj - prevObj)/prevObj  > tol || iters == 0\n",
      "    iters += 1\n",
      "    prevObj = currObj\n",
      "    # Update \u03b2_0:\n",
      "      \u03b2new = \u03b2[1] + mean(r) / x1\n",
      "      r = r .+ ((\u03b2[1] - \u03b2new)*x1)  \n",
      "      \u03b2[1] = \u03b2new\n",
      "    # Update \u03b2_j's\n",
      "      Xpr = X' * r\n",
      "      \u03b2extr = \u03b2tm1 + (iters-2)/(iters+1) .* (\u03b2tm1 - \u03b2tm2)\n",
      "      z = \u03b2extr + s .* Xpr\n",
      "      for j = 2:p\n",
      "        \u03b2new = softThresh(z[j], \u03bb * s)\n",
      "        r += (\u03b2[j] - \u03b2new) .* X[:, j]\n",
      "        \u03b2[j] = \u03b2new\n",
      "      end\n",
      "    \u03b2tm1 = \u03b2\n",
      "    \u03b2tm2 = \u03b2tm1\n",
      "    currObj = .5 * norm(y-X*\u03b2)^2 + \u03bb * norm(\u03b2[2:end], 1)\n",
      "  end\n",
      "  return \u03b2\n",
      "end;"
     ],
     "language": "python",
     "metadata": {},
     "outputs": [],
     "prompt_number": 4
    },
    {
     "cell_type": "markdown",
     "metadata": {},
     "source": [
      "#### Q2 Create design matrix and responses for $ n = 10,000 $ and $ p = 1,000 $"
     ]
    },
    {
     "cell_type": "code",
     "collapsed": false,
     "input": [
      "function formH(n, p = n)\n",
      "  # Default is to return n*n matrix, otherwise n*p portion of H\n",
      "  H = zeros(n, n)\n",
      "  H[:, 1] = 1 / sqrt(n)\n",
      "  for j = 2:n\n",
      "    for i = 1:(j-1)\n",
      "      H[i, j] = 1/sqrt(j * (j-1))\n",
      "    end\n",
      "    H[j, j] = -(j-1)/sqrt(j * (j-1))\n",
      "  end\n",
      "  return H[:, 1:p]\n",
      "end\n",
      "\n",
      "p = 1000\n",
      "n = 10000\n",
      "X = formH(n, p)\n",
      "\u03b2true = zeros(p)\n",
      "\u03b2true[1:5] = 1:5\n",
      "srand(2015790003)\n",
      "y = X * \u03b2true + randn(n);"
     ],
     "language": "python",
     "metadata": {},
     "outputs": [],
     "prompt_number": 3
    },
    {
     "cell_type": "markdown",
     "metadata": {},
     "source": [
      "#### Q3 Derive an analytical solution to the LASSO problem for the specific form in Q2.\n"
     ]
    },
    {
     "cell_type": "code",
     "collapsed": false,
     "input": [
      "# This function calculates the analytical solution for a given \u03bb\n",
      "function getAnalyticalSoln(y, p, \u03bb)\n",
      "  n = size(y,1)\n",
      "  \u03b2 = zeros(p)\n",
      "  for j = 2:p\n",
      "    ystar = sum(y[1:(j-1)]) - y[j]\n",
      "    ystar /= sqrt(j*(j-1))\n",
      "    \u03b2[j] = softThresh(ystar, \u03bb)\n",
      "  end\n",
      "  \u03b2[1] = sum(y) / sqrt(n)\n",
      "  return \u03b2\n",
      "end;"
     ],
     "language": "python",
     "metadata": {},
     "outputs": [],
     "prompt_number": 4
    },
    {
     "cell_type": "markdown",
     "metadata": {},
     "source": [
      "#### Q4 Test algorithms:\n",
      "#### (a) "
     ]
    },
    {
     "cell_type": "code",
     "collapsed": false,
     "input": [
      "\u03bbs = 0:0.6:6\n",
      "N = length(\u03bbs)\n",
      "\n",
      "\u03b2s_convex = zeros(p, N)\n",
      "\u03b2s_cd = zeros(p, N)\n",
      "\u03b2s_apg = zeros(p, N)\n",
      "\u03b2s_Solutions = zeros(p, N)\n",
      "for i in 1:N\n",
      "  \u03b2s_Solutions[:, i] = getAnalyticalSoln(y, p, \u03bbs[i])\n",
      "end\n",
      "# @time for i in 1:N\n",
      "#   \u03b2s_convex[:,i] = lasso_convex(X, y, \u03bbs[i])\n",
      "# end\n",
      "@time for i in 1:N\n",
      "  \u03b2s_cd[:,i] = lasso_cd(X, y, \u03bbs[i], 10e-4)\n",
      "end"
     ],
     "language": "python",
     "metadata": {},
     "outputs": [
      {
       "output_type": "stream",
       "stream": "stdout",
       "text": [
        "elapsed time: 9"
       ]
      },
      {
       "output_type": "stream",
       "stream": "stdout",
       "text": [
        ".61324256 seconds (8023732576 bytes allocated, 36.34% gc time)\n"
       ]
      }
     ],
     "prompt_number": 6
    },
    {
     "cell_type": "code",
     "collapsed": false,
     "input": [],
     "language": "python",
     "metadata": {},
     "outputs": []
    }
   ],
   "metadata": {}
  }
 ]
}