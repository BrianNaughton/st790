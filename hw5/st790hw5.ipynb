{
 "metadata": {
  "name": ""
 },
 "nbformat": 3,
 "nbformat_minor": 0,
 "worksheets": [
  {
   "cells": [
    {
     "cell_type": "code",
     "collapsed": false,
     "input": [
      "versioninfo()"
     ],
     "language": "python",
     "metadata": {},
     "outputs": [
      {
       "output_type": "stream",
       "stream": "stdout",
       "text": [
        "Julia Version 0.3.6\n"
       ]
      },
      {
       "output_type": "stream",
       "stream": "stdout",
       "text": [
        "Commit a05f87b* (2015-01-08 22:33 UTC)\n",
        "Platform Info:\n",
        "  System: Linux (x86_64-linux-gnu)\n",
        "  CPU: Intel(R) Core(TM) i7-2670QM CPU @ 2.20GHz\n",
        "  WORD_SIZE: 64\n",
        "  BLAS: libblas.so.3\n",
        "  LAPACK: liblapack.so.3\n",
        "  LIBM: libopenlibm\n",
        "  LLVM: libLLVM-3.3\n"
       ]
      }
     ],
     "prompt_number": 1
    },
    {
     "cell_type": "markdown",
     "metadata": {},
     "source": [
      "### Q1 Lasso Regression\n",
      "1. (a) Center and standardize all predictors to have mean 0 and variance 1. Create training and testing datasets."
     ]
    },
    {
     "cell_type": "code",
     "collapsed": false,
     "input": [
      "cd(\"/home/brian/st790/hw4\")\n",
      "using DataFrames, GLM\n",
      "prostate = readtable(\"prostate.txt\", separator = '\\t', header=true)\n",
      "prostate = prostate[2:11]\n",
      "\n",
      "# Standardize predictors\n",
      "for j = 1:8\n",
      "  prostate[j] = float64(prostate[j])\n",
      "  colMean = mean(prostate[j])\n",
      "  colSD   = std(prostate[j])\n",
      "  prostate[j] .-= colMean\n",
      "  prostate[j] ./= colSD\n",
      "end\n",
      "\n",
      "training = prostate[prostate[:train] .== true, :]\n",
      "testing  = prostate[prostate[:train] .== false, :];"
     ],
     "language": "python",
     "metadata": {},
     "outputs": [],
     "prompt_number": "*"
    },
    {
     "cell_type": "markdown",
     "metadata": {},
     "source": [
      "1. (b) Fit Lasso regression, plot solution path, and plot prediction errors."
     ]
    },
    {
     "cell_type": "code",
     "collapsed": false,
     "input": [
      "using Convex\n",
      "## Use Mosek solver\n",
      "using Mosek\n",
      "solver = MosekSolver(LOG=0)\n",
      "set_default_solver(solver)\n",
      "p = 8\n",
      "\u03b2 = Variable(p + 1) # 8 + intercept\n",
      "y_train = array(training[:lpsa])\n",
      "y_test = array(testing[:lpsa])\n",
      "X_train = [ones(67) array(training[1:8])]\n",
      "X_test = [ones(30) array(testing[1:8])]\n",
      "\u03bbs = 0:2:64\n",
      "N = length(\u03bbs)\n",
      "n_train = length(y_train)\n",
      "n_test = length(y_test)\n",
      "\u03b2s = zeros(p+1, N) # Matrix to hold solutions\n",
      "predErrors = zeros(N)\n",
      "\n",
      "@time for i in 1:N\n",
      "  problem = minimize(1/2 * norm(y_train- X_train*\u03b2, 2)^2 + \u03bbs[i] * norm(\u03b2[2:end], 1))\n",
      "  solve!(problem)\n",
      "  \u03b2s[:,i] = \u03b2.value\n",
      "  predErrors[i] = sum((y_test - X_test * \u03b2.value).^2) / n_test\n",
      "end\n",
      "\n",
      "using Gadfly\n",
      "# The following code is adapted form Dr. Zhou's in class examples\n",
      "solutionpath = DataFrame(Predictor = rep([\"lcavol\",\"lweight\",\"age\",\"lbph\",\n",
      "    \"svi\",\"lcp\",\"gleason\",\"pgg45\"], length(\u03bbs)), \n",
      "    Coef = reshape(\u03b2s[2:end, :], (p * length(\u03bbs))), \n",
      "    \u03bb = rep(\u03bbs, each=p))\n",
      "plot(solutionpath, layer(x=:\u03bb, y=:Coef, color=:Predictor, Geom.line),\n",
      "    Guide.xlabel(\"\u03bb\"), Guide.ylabel(\"\u03b2hat(\u03bb)\"), Guide.title(\"Lasso regression - Solution path\"))"
     ],
     "language": "python",
     "metadata": {},
     "outputs": [],
     "prompt_number": "*"
    },
    {
     "cell_type": "code",
     "collapsed": false,
     "input": [
      "plot(x=\u03bbs, y=predErrors, Guide.xlabel(\"\u03bb\"), Geom.line, Geom.point,\n",
      "    Guide.ylabel(\"Prediction Error\"), Guide.title(\"Lasso regression - Prediction errors on Test set\"))"
     ],
     "language": "python",
     "metadata": {},
     "outputs": [],
     "prompt_number": "*"
    },
    {
     "cell_type": "markdown",
     "metadata": {},
     "source": [
      "### Q2 Group lasso  \n",
      "`2`. (a) Center and standardize all predictors to have mean 0 and variance 1. Create training and testing datasets.  \n",
      "*See above in Q1*  \n",
      "`2`. (b) Add quadatic and cubic terms of the continuous predictors to the model. "
     ]
    },
    {
     "cell_type": "code",
     "collapsed": false,
     "input": [
      "X_train2 = zeros(n_train, 12)\n",
      "X_test2 = zeros(n_test, 12)\n",
      "X_train2[:, 1:6] = X_train[:, [2,3,4,5,7,9]].^2\n",
      "X_train2[:, 7:12] = X_train[:, [2,3,4,5,7,9]].^3\n",
      "X_test2[:, 1:6] = X_test[:, [2,3,4,5,7,9]].^2\n",
      "X_test2[:, 7:12] = X_test[:, [2,3,4,5,7,9]].^3\n",
      "X_train = [X_train X_train2]\n",
      "X_test = [X_test X_test2];"
     ],
     "language": "python",
     "metadata": {},
     "outputs": [],
     "prompt_number": "*"
    },
    {
     "cell_type": "markdown",
     "metadata": {},
     "source": [
      "`2`. (c) Fit group lasso regression"
     ]
    },
    {
     "cell_type": "code",
     "collapsed": false,
     "input": [
      "p = 8 + 2*6\n",
      "\u03b2 = Variable(p + 1) # 8 + intercept\n",
      "tmpExps = -3:.2:5\n",
      "N = length(tmpExps)\n",
      "\u03bbs = zeros(N)\n",
      "for i = 1:N\n",
      "  \u03bbs[i] = 2 ^ tmpExps[i]\n",
      "end\n",
      "\n",
      "\u03b2s = zeros(p+1, N) # Matrix to hold solutions\n",
      "predErrors = zeros(N)\n",
      "\n",
      "@time for i in 1:N\n",
      "  # There may be a better way to code this, but it works!\n",
      "  problem = minimize(1/2 * norm(y_train- X_train*\u03b2, 2)^2 + \n",
      "                      \u03bbs[i] * (sqrt(3) * norm(\u03b2[[2,10,16]], 2) +\n",
      "                               sqrt(3) * norm(\u03b2[[3,11,17]], 2) +\n",
      "                               sqrt(3) * norm(\u03b2[[4,12,18]], 2) +\n",
      "                               sqrt(3) * norm(\u03b2[[5,13,19]], 2) +\n",
      "                               sqrt(3) * norm(\u03b2[[7,14,20]], 2) +\n",
      "                               sqrt(3) * norm(\u03b2[[9,15,21]], 2) +\n",
      "                               norm(\u03b2[6], 2) + norm(\u03b2[8], 2)))\n",
      "  solve!(problem)\n",
      "  \u03b2s[:,i] = \u03b2.value\n",
      "  predErrors[i] = sum((y_test - X_test * \u03b2.value).^2) / n_test\n",
      "end"
     ],
     "language": "python",
     "metadata": {},
     "outputs": [],
     "prompt_number": "*"
    },
    {
     "cell_type": "markdown",
     "metadata": {},
     "source": [
      "    Plot solution path:\n",
      "   "
     ]
    },
    {
     "cell_type": "code",
     "collapsed": false,
     "input": [
      "# The following code is adapted form Dr. Zhou's in class examples\n",
      "solutionpath = DataFrame(Predictor = rep([\"lcavol\",\"lweight\",\"age\",\"lbph\",\n",
      "    \"svi\",\"lcp\",\"gleason\",\"pgg45\",\"lcavol_2\",\"lweight_2\",\"age_2\",\"lbph_2\",\n",
      "    \"lcp_2\",\"pgg45_2\",\"lcavol_3\",\"lweight_3\",\"age_3\",\"lbph_3\",\n",
      "    \"lcp_3\",\"pgg45_3\"], length(\u03bbs)), \n",
      "    Coef = reshape(\u03b2s[2:end, :], (p * length(\u03bbs))), \n",
      "    \u03bb = rep(log(\u03bbs), each=p))\n",
      "plot(solutionpath, layer(x=:\u03bb, y=:Coef, color=:Predictor, Geom.line),\n",
      "    Guide.xlabel(\"log(\u03bb)\"), Guide.ylabel(\"\u03b2hat(\u03bb)\"), Guide.title(\"Group Lasso regression - Solution path\"))"
     ],
     "language": "python",
     "metadata": {},
     "outputs": [],
     "prompt_number": "*"
    },
    {
     "cell_type": "markdown",
     "metadata": {},
     "source": [
      "    Plot prediction errors on test dataset"
     ]
    },
    {
     "cell_type": "code",
     "collapsed": false,
     "input": [
      "plot(x=log(\u03bbs), y=predErrors, Guide.xlabel(\"\u03bb\"), Geom.line, Geom.point,\n",
      "    Guide.ylabel(\"Prediction Error\"), Guide.title(\"Group Lasso regression - Prediction errors on Test set\"))"
     ],
     "language": "python",
     "metadata": {},
     "outputs": [],
     "prompt_number": "*"
    },
    {
     "cell_type": "markdown",
     "metadata": {},
     "source": [
      "### Q3 SVM \n",
      "`3`. (a) Read in the South African heart disease data. Standardize predictors and split into training and testing sets."
     ]
    },
    {
     "cell_type": "code",
     "collapsed": false,
     "input": [
      "saheart = readtable(\"saheart.txt\", separator = '\\t', header=true)\n",
      "saheart = saheart[:, [:row_names, :sbp, :tobacco, :ldl, \n",
      "                      :famhist, :obesity, :alcohol, :age, :chd, :train]]\n",
      "tmpdf = DataFrame(row_names=1:463, famhist1=zeros(463))\n",
      "saheart = join(saheart, tmpdf,  on=:row_names)\n",
      "p = 7\n",
      "n = nrow(saheart)\n",
      "for i = 1:n\n",
      "  if saheart[i, :famhist]==\"Present\"\n",
      "    saheart[i, :famhist1]=1.0\n",
      "  end\n",
      "  if saheart[i, :chd]==0\n",
      "    saheart[i, :chd]=-1\n",
      "  end\n",
      "end\n",
      "X = saheart[:, [:sbp, :tobacco, :ldl, :famhist1, :obesity, :alcohol, \n",
      "                :age, :chd, :train]]\n",
      "for j = 1:7\n",
      "  X[j] = float64(X[j])\n",
      "  colMean = mean(X[j])\n",
      "  colSD   = std(X[j])\n",
      "  X[j] .-= colMean\n",
      "  X[j] ./= colSD\n",
      "end\n",
      "Xtrain = [ones(312) array(X[X[:train] .== true, 1:7])]\n",
      "Xtest = [ones(150) array(X[X[:train] .== false, 1:7])]\n",
      "ytrain = array(X[X[:train] .== true, :chd])\n",
      "ytest = array(X[X[:train] .== false, :chd]);"
     ],
     "language": "python",
     "metadata": {},
     "outputs": [],
     "prompt_number": "*"
    },
    {
     "cell_type": "markdown",
     "metadata": {},
     "source": [
      "`3`. (b) Fit the SVM"
     ]
    },
    {
     "cell_type": "code",
     "collapsed": false,
     "input": [
      "\u03bbs = 0:2:100\n",
      "N = length(\u03bbs)\n",
      "\u03b2s = zeros(p+1, N) # Matrix to hold solutions\n",
      "\u03b2 = Variable(p+1)\n",
      "@time for i = 1:N\n",
      "    problem = minimize(sum(pos(1 - ytrain .* (Xtrain * \u03b2))) +\n",
      "                         \u03bbs[i] * norm(\u03b2[2:end], 2)^2)\n",
      "    solve!(problem)\n",
      "    \u03b2s[:,i] = \u03b2.value\n",
      "end"
     ],
     "language": "python",
     "metadata": {},
     "outputs": [],
     "prompt_number": "*"
    },
    {
     "cell_type": "markdown",
     "metadata": {},
     "source": [
      "    Plot the solution path:"
     ]
    },
    {
     "cell_type": "code",
     "collapsed": false,
     "input": [
      "# The following code is adapted form Dr. Zhou's in class examples\n",
      "solutionpath = DataFrame(Predictor = rep([\"sbp\", \"tobacco\", \"ldl\", \n",
      "    \"famhist\", \"obesity\", \"alcohol\", \"age\"],N),\n",
      "    Coef = reshape(\u03b2s[2:end, :], (p * N)),\n",
      "    \u03bb = rep(\u03bbs, each=p))\n",
      "plot(solutionpath, layer(x=:\u03bb, y=:Coef, color=:Predictor, Geom.line),\n",
      "    Guide.xlabel(\"\u03bb\"), Guide.ylabel(\"\u03b2hat(t)\"), Guide.title(\"SVM Solution path\"))"
     ],
     "language": "python",
     "metadata": {},
     "outputs": [],
     "prompt_number": "*"
    },
    {
     "cell_type": "code",
     "collapsed": false,
     "input": [
      "misclass = zeros(N)\n",
      "ntest = size(Xtest, 1)\n",
      "for i in 1:N\n",
      "  predicted = Xtest * \u03b2s[:,i]\n",
      "  mis_ctr = 0\n",
      "  for j in 1:ntest\n",
      "    if predicted[j] * ytest[j] < 0 # Misclassify if opposite sign\n",
      "      mis_ctr += 1\n",
      "    end\n",
      "  end\n",
      "  misclass[i] = mis_ctr / ntest\n",
      "end\n",
      "PredictionError = DataFrame(\u03bb = \u03bbs, Error = misclass)\n",
      "plot(PredictionError, layer(x=:\u03bb, y=:Error, Geom.line),\n",
      "    Guide.xlabel(\"\u03bb\"), Guide.ylabel(\"Misclassification Error\"), Guide.title(\"SVM Misclassification error rate\"))"
     ],
     "language": "python",
     "metadata": {},
     "outputs": [],
     "prompt_number": "*"
    },
    {
     "cell_type": "markdown",
     "metadata": {},
     "source": [
      "The solutions paths are a bit different compared to those from HW4 Q6. Here the predictor estimates seem to be shrunk toward zero together and at the same rate. In the 1-norm SVM from HW4 they shrink toward zero at different rates. However, the ordering (importance) of the predictors is the same in both cases.  \n",
      "\n",
      "Also, both version of SVM achieve the same misclassification error for the optimal model.  \n",
      "  \n",
      "### Q4 Denoise Lena  \n",
      "`4.` (a) Discuss how to optimize the objective function (1) from the ROF model:   \n",
      "The objective function can be rewritten in epigraph form as:  \n",
      "- $ min ~ \\frac{1}{2} t_0 + \\lambda \\sum_{i,j} t_{ij} $  \n",
      "    subject to: $ \\sqrt{(x_{i+1,j}-x_{i,j})^2+(x_{i,j+1}-x_{i,j})^2} < t_{ij}$ and  \n",
      "    $ \\| y-x \\|_F < \\sqrt{t_0}$\n",
      "- Define $ L_{(m-1) \\times (m)} = \\left( \\begin{array}{ccccc}\n",
      "-1 & 1 & 0 & \\cdots & 0 \\\\\n",
      "0 & -1 & 1 & \\cdots & 0 \\\\\n",
      "\\cdots & \\cdots  & \\cdots  & \\cdots & \\cdots  \\\\\n",
      "0 & 0  & \\cdots  & -1 & 1 \\\\\\end{array} \\right) $ and \n",
      "$ R_{(n) \\times (n-1)} = \\left( \\begin{array}{ccccc}\n",
      "-1 & 0 & 0 & \\cdots & 0 \\\\\n",
      "1 & -1 & 0 & \\cdots & 0 \\\\\n",
      "0& 1 & -1 & \\cdots & 0 \\\\\n",
      "\\cdots & \\cdots  & \\cdots  & \\cdots & -1  \\\\\n",
      "0 & 0  & \\cdots  & \\cdots & 1 \\\\\\end{array} \\right) $\n",
      "The objective can be written as  \n",
      "- $ min ~ \\frac{1}{2} t_0 + \\lambda \\sum_{i,j} t_{ij} $  \n",
      "    subject to: $ \\| LX + XR \\|_F < T $ and  \n",
      "    $ \\| y-x \\|_F < \\sqrt{t_0}$, where $ T = \\{t_{ij}\\}  $  \n",
      "    If we rewrite the matrices as vectors, then this is equivalent to:\n",
      "- $ min ~ \\frac{1}{2} t_0 + \\lambda \\sum_{i,j} t_{ij} $  \n",
      "    subject to: $ \\| vec(LX + XR) \\|_2 < vec(T) $ and  \n",
      "    $ \\| vec(y-x) \\|_2 < \\sqrt{t_0}$, where $ T = \\{t_{ij}\\}.  $      \n",
      "    This is now in the form of an SOCP.\n",
      "    \n",
      "`4.` (b) Minimize the objective function (2) and display recovered images at $ \\lambda = 0.01, 0.05, 0.1 $\n"
     ]
    },
    {
     "cell_type": "code",
     "collapsed": false,
     "input": [
      "using Images # , Color, FixedPointNumbers\n",
      "cd(\"/home/brian/st790/hw5\")\n",
      "img = imread(\"lena256noisy.png\")\n",
      "y = float(convert(Array, img))\n",
      "n = size(y,2)\n",
      "m = size(y,1)\n",
      "Left = zeros(m-1, m)\n",
      "Right = zeros(n, n-1)\n",
      "for i = 1:(m-1)\n",
      "  Left[i, i] = -1\n",
      "  Left[i, i+1] = 1\n",
      "end\n",
      "\n",
      "for i = 1:(n-1)\n",
      "  Right[i, i] = -1\n",
      "  Right[i+1, i] = 1\n",
      "end\n",
      "Xs = zeros(m, n, N)\n",
      "\u03bbs = [0.01, .05, .1]\n",
      "N = length(\u03bbs)\n",
      "x = Variable(m, n)\n",
      "@time for i = 1:N\n",
      "    problem = minimize(.5*vecnorm(y-x, 2)^2 + \n",
      "                         \u03bbs[i] * (vecnorm(Left * x, 1) + vecnorm(x * Right, 1)))\n",
      "    solve!(problem)\n",
      "    Xs[:,:,i] = x.value\n",
      "end"
     ],
     "language": "python",
     "metadata": {},
     "outputs": [],
     "prompt_number": "*"
    },
    {
     "cell_type": "markdown",
     "metadata": {},
     "source": [
      "Original image:"
     ]
    },
    {
     "cell_type": "code",
     "collapsed": false,
     "input": [
      "img"
     ],
     "language": "python",
     "metadata": {},
     "outputs": [],
     "prompt_number": "*"
    },
    {
     "cell_type": "markdown",
     "metadata": {},
     "source": [
      "Recovered image for $ \\lambda = 0.01 $:"
     ]
    },
    {
     "cell_type": "code",
     "collapsed": false,
     "input": [
      "convert(Image, Xs[:,:,1])\n"
     ],
     "language": "python",
     "metadata": {},
     "outputs": [],
     "prompt_number": "*"
    },
    {
     "cell_type": "markdown",
     "metadata": {},
     "source": [
      "Recovered image for $ \\lambda = 0.05 $:"
     ]
    },
    {
     "cell_type": "code",
     "collapsed": false,
     "input": [
      "convert(Image, Xs[:,:,2])"
     ],
     "language": "python",
     "metadata": {},
     "outputs": [],
     "prompt_number": "*"
    },
    {
     "cell_type": "markdown",
     "metadata": {},
     "source": [
      "Recovered image for $ \\lambda = 0.1 $:"
     ]
    },
    {
     "cell_type": "code",
     "collapsed": false,
     "input": [
      "convert(Image, Xs[:,:,3])"
     ],
     "language": "python",
     "metadata": {},
     "outputs": [],
     "prompt_number": "*"
    }
   ],
   "metadata": {}
  }
 ]
}