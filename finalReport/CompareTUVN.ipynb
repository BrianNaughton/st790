{
 "cells": [
  {
   "cell_type": "markdown",
   "metadata": {},
   "source": [
    "### Brian Naughton \n",
    "### Compare TUVN sampler between `TruncatedMVN.jl` and `Distributions.jl`\n",
    "This notebook compares the truncated univariate normal sampler in the new `TruncatedMVN.jl` package to the generic sampler implemented in `Distributions.jl`"
   ]
  },
  {
   "cell_type": "code",
   "execution_count": 1,
   "metadata": {
    "collapsed": false
   },
   "outputs": [
    {
     "name": "stdout",
     "output_type": "stream",
     "text": [
      "Julia Version 0.3.7\n",
      "Commit cb9bcae* (2015-03-23 21:36 UTC)\n",
      "Platform Info:\n",
      "  System: Linux (x86_64-linux-gnu)\n",
      "  CPU: Intel(R) Core(TM) i7-2670QM CPU @ 2.20GHz\n",
      "  WORD_SIZE: 64\n",
      "  BLAS: libopenblas (DYNAMIC_ARCH NO_AFFINITY Sandybridge)\n",
      "  LAPACK: libopenblas\n",
      "  LIBM: libopenlibm\n",
      "  LLVM: libLLVM-3.3\n"
     ]
    }
   ],
   "source": [
    "versioninfo()\n",
    "srand(32787)"
   ]
  },
  {
   "cell_type": "markdown",
   "metadata": {},
   "source": [
    "#### How do they differ in terms of numerical stability?\n",
    "Sample 10 points from $N(0,1)$ constrained to the region $[9, \\infty]$"
   ]
  },
  {
   "cell_type": "code",
   "execution_count": 2,
   "metadata": {
    "collapsed": false
   },
   "outputs": [],
   "source": [
    "using Distributions, TruncatedMVN\n",
    "a = 9.0\n",
    "b = Inf\n",
    "old_sampler = TruncatedNormal(0, 1, a, b)\n",
    "old = rand(old_sampler, 10)\n",
    "\n",
    "new_sampler = TruncatedNormalSampler(a, b)\n",
    "new = rand(new_sampler, 10);"
   ]
  },
  {
   "cell_type": "markdown",
   "metadata": {},
   "source": [
    "Sampling using `Distributions.jl`:"
   ]
  },
  {
   "cell_type": "code",
   "execution_count": 3,
   "metadata": {
    "collapsed": false
   },
   "outputs": [
    {
     "name": "stdout",
     "output_type": "stream",
     "text": [
      "[Inf,Inf,Inf,Inf,Inf,Inf,Inf,Inf,Inf,Inf]"
     ]
    }
   ],
   "source": [
    "print(old)"
   ]
  },
  {
   "cell_type": "markdown",
   "metadata": {},
   "source": [
    "  \n",
    "Sampling using `TruncatedMVN.jl`:"
   ]
  },
  {
   "cell_type": "code",
   "execution_count": 4,
   "metadata": {
    "collapsed": false
   },
   "outputs": [
    {
     "name": "stdout",
     "output_type": "stream",
     "text": [
      "[9.18,9.1,9.01,9.07,9.01,9.02,9.3,9.12,9.12,9.24]"
     ]
    }
   ],
   "source": [
    "print(round(new, 2))"
   ]
  },
  {
   "cell_type": "markdown",
   "metadata": {},
   "source": [
    "#### How do the timing benchmarks compare?\n",
    "It might depend on the sampler used.\n",
    "\n",
    " - Normal rejection sampling on region $[-1.0,2.0]$:"
   ]
  },
  {
   "cell_type": "code",
   "execution_count": 5,
   "metadata": {
    "collapsed": false
   },
   "outputs": [
    {
     "name": "stdout",
     "output_type": "stream",
     "text": [
      "Method: NR\n",
      "elapsed time: 0.003208332 seconds (813928 bytes allocated)\n",
      "elapsed time: 0.008017053 seconds (3991952 bytes allocated)\n"
     ]
    }
   ],
   "source": [
    "a = -1.0\n",
    "b = 2.0\n",
    "old_sampler = TruncatedNormal(0, 1, a, b)\n",
    "new_sampler = TruncatedNormalSampler(a, b)\n",
    "print(\"Method: \", new_sampler.m, \"\\n\")\n",
    "@time rand(old_sampler, 100000)\n",
    "@time rand(new_sampler, 100000);"
   ]
  },
  {
   "cell_type": "markdown",
   "metadata": {},
   "source": [
    " - Half normal rejection sampling on region $[0.2, 3.0]$:"
   ]
  },
  {
   "cell_type": "code",
   "execution_count": 6,
   "metadata": {
    "collapsed": false
   },
   "outputs": [
    {
     "name": "stdout",
     "output_type": "stream",
     "text": [
      "Method: HR\n",
      "elapsed time: 0.005202581 seconds (800128 bytes allocated)\n",
      "elapsed time: 0.009963009 seconds (3991952 bytes allocated)\n"
     ]
    }
   ],
   "source": [
    "a = 0.2\n",
    "b = 3.0\n",
    "old_sampler = TruncatedNormal(0, 1, a, b)\n",
    "new_sampler = TruncatedNormalSampler(a, b)\n",
    "print(\"Method: \", new_sampler.m, \"\\n\")\n",
    "@time rand(old_sampler, 100000)\n",
    "@time rand(new_sampler, 100000);"
   ]
  },
  {
   "cell_type": "markdown",
   "metadata": {},
   "source": [
    " - Uniform rejection sampling on region $[-1.0, 1.0]$:"
   ]
  },
  {
   "cell_type": "code",
   "execution_count": 7,
   "metadata": {
    "collapsed": false
   },
   "outputs": [
    {
     "name": "stdout",
     "output_type": "stream",
     "text": [
      "Method: UR\n",
      "elapsed time: 0.0036016 seconds (800128 bytes allocated)\n",
      "elapsed time: 0.022933784 seconds (3991952 bytes allocated)\n"
     ]
    }
   ],
   "source": [
    "a = -1.0\n",
    "b = 1.0\n",
    "old_sampler = TruncatedNormal(0, 1, a, b)\n",
    "new_sampler = TruncatedNormalSampler(a, b)\n",
    "print(\"Method: \", new_sampler.m, \"\\n\")\n",
    "@time rand(old_sampler, 100000)\n",
    "@time rand(new_sampler, 100000);"
   ]
  },
  {
   "cell_type": "markdown",
   "metadata": {},
   "source": [
    " - Translated exponential rejection sampling on region $[1.0, 5.0]:$"
   ]
  },
  {
   "cell_type": "code",
   "execution_count": 8,
   "metadata": {
    "collapsed": false
   },
   "outputs": [
    {
     "name": "stdout",
     "output_type": "stream",
     "text": [
      "Method: ER\n",
      "elapsed time: 0.00676638 seconds (800128 bytes allocated)\n",
      "elapsed time: 0.017331197 seconds (3991952 bytes allocated)\n"
     ]
    }
   ],
   "source": [
    "a = 1.0\n",
    "b = 5.0\n",
    "old_sampler = TruncatedNormal(0, 1, a, b)\n",
    "new_sampler = TruncatedNormalSampler(a, b)\n",
    "print(\"Method: \", new_sampler.m, \"\\n\")\n",
    "@time rand(old_sampler, 100000)\n",
    "@time rand(new_sampler, 100000);"
   ]
  }
 ],
 "metadata": {
  "kernelspec": {
   "display_name": "Julia 0.3.7",
   "language": "julia",
   "name": "julia 0.3"
  },
  "language_info": {
   "name": "julia",
   "version": "0.3.7"
  }
 },
 "nbformat": 4,
 "nbformat_minor": 0
}
